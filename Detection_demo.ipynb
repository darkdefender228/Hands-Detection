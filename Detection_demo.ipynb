{
 "cells": [
  {
   "cell_type": "code",
   "execution_count": 1,
   "metadata": {},
   "outputs": [],
   "source": [
    "import cv2\n",
    "import numpy as np\n",
    "from matplotlib import pyplot as plt\n",
    "from skimage.feature import peak_local_max\n",
    "from sklearn.cluster import KMeans\n",
    "from imtools import get_imlist"
   ]
  },
  {
   "cell_type": "code",
   "execution_count": 2,
   "metadata": {},
   "outputs": [],
   "source": [
    "def show(img, title='my picture'):\n",
    "    plt.imshow(img, cmap='gray')\n",
    "    plt.title(title)\n",
    "    plt.show()"
   ]
  },
  {
   "cell_type": "code",
   "execution_count": 3,
   "metadata": {},
   "outputs": [],
   "source": [
    "def make_mask(value, img):\n",
    "    copy_img = img\n",
    "    mask = copy_img < value\n",
    "    copy_img[mask] = 0\n",
    "    return copy_img"
   ]
  },
  {
   "cell_type": "code",
   "execution_count": 4,
   "metadata": {},
   "outputs": [],
   "source": [
    "def centre(coord, dist):\n",
    "    centre = []\n",
    "    for index in range(len(coord[:-1])):\n",
    "        if np.sum((coord[index] - coord[index + 1])**2)**0.5 < dist:\n",
    "            centre.append(np.abs(coord[index] + coord[index + 1])//2)\n",
    "        else:\n",
    "            centre.append(coord[index])\n",
    "    return np.asarray(centre)"
   ]
  },
  {
   "cell_type": "code",
   "execution_count": 5,
   "metadata": {},
   "outputs": [],
   "source": [
    "def filtering_max(coordinates, maximum, scale, value=0.05):\n",
    "    filtered = maximum[coordinates[:, 0], coordinates[:, 1]] > value\n",
    "    coordinates = coordinates[filtered]\n",
    "    return coordinates"
   ]
  },
  {
   "cell_type": "code",
   "execution_count": 6,
   "metadata": {},
   "outputs": [],
   "source": [
    "def mean_pooling(img, scale):\n",
    "    h_, w_ = 0, 0\n",
    "    save_mean = []\n",
    "    for h in range(10, 110, scale):\n",
    "        h_ = h_ + 1\n",
    "        for w in range(10, 189, scale):\n",
    "            save_mean.append(img[h - 10: h, w - 10: w].mean())\n",
    "    w_ = len(save_mean) // h_\n",
    "    save_mean = np.asarray(save_mean).reshape(h_, w_)\n",
    "    return save_mean"
   ]
  },
  {
   "cell_type": "code",
   "execution_count": 7,
   "metadata": {},
   "outputs": [],
   "source": [
    "def count_cluster(first, dots, radius):\n",
    "    lst = []\n",
    "    first = np.ones(dots.shape)*first\n",
    "    dist = np.ones(dots.shape[0])\n",
    "    arr = (first - dots)**2\n",
    "    \n",
    "    for index, el in enumerate(arr):\n",
    "        dist[index] = np.sqrt(np.sum(el))\n",
    "    index = (dist > radius)\n",
    "    for j, i in enumerate(index):\n",
    "        if i:\n",
    "            lst.append(dots[j])\n",
    "    if len(lst) > 0:\n",
    "        return count_cluster(lst[0], np.asarray(lst[1:]), radius) + 1\n",
    "    else:\n",
    "        return 1"
   ]
  },
  {
   "cell_type": "code",
   "execution_count": 8,
   "metadata": {},
   "outputs": [],
   "source": [
    "def find_cluster(n_clusters, coordinates, mode='default', init='k-means++'):\n",
    "    \"\"\"\n",
    "    finds clusters and return a dictionary with keys 'clusters', 'coordinates'\n",
    "    where 'coordinates' are coordinates of local peek maxima\n",
    "    \n",
    "    n_clusters - float\n",
    "    coordinates - numpy.ndarray\n",
    "    mode - str - is optional, if the mode is +- do clustering for number of clusters  \n",
    "    [n_clusters - 1, n_clusters, n_clusters + 1] \n",
    "    in that case dots['clusters_centres'].shape = (3,)\n",
    "    init - str - init for Kmeans\n",
    "    \"\"\"\n",
    "    dots = {}\n",
    "    if mode == 'default':\n",
    "        kmeans_centers = [KMeans(n_clusters=n_clusters, random_state=0, init='k-means++').fit(coordinates)]\n",
    "    if mode == '+-':\n",
    "        kmeans_centers = [KMeans(n_clusters=i, random_state=0, init='k-means++').fit(coordinates) for i in range(n_clusters - 1, n_clusters + 2)]\n",
    "        \n",
    "    dots['clusters'] = np.asarray(kmeans_centers)\n",
    "    dots['coordinates'] = coordinates\n",
    "    return dots"
   ]
  },
  {
   "cell_type": "code",
   "execution_count": 9,
   "metadata": {},
   "outputs": [],
   "source": [
    "def make_square_box(dots, box_shape, shape, center=False):\n",
    "    y, x = shape\n",
    "    shift = box_shape//4\n",
    "    boxes = []\n",
    "    for dot in dots['coordinates']:\n",
    "    #left_up\n",
    "        dot_boxes = []\n",
    "        check = box(shift, dot, 'l_up')\n",
    "        right_down_y = crop_number(check[0], (-99999, y))\n",
    "        right_down_x = crop_number(check[1], (-99999, x))\n",
    "        left_up_y = crop_number(check[2], (0, 99999))\n",
    "        left_up_x = crop_number(check[3], (0, 99999))\n",
    "        dot_boxes.append(np.array([left_up_y, left_up_x, right_down_y, right_down_x]))\n",
    "\n",
    "        check = box(shift, dot, 'r_up')\n",
    "        left_down_y = crop_number(check[0], (-99999, y))\n",
    "        left_down_x = crop_number(check[1], (0, 99999))\n",
    "        right_up_y = crop_number(check[2], (0, 99999))\n",
    "        right_up_x = crop_number(check[3], (-99999, x))\n",
    "        dot_boxes.append(np.array([right_up_y, left_down_x, left_down_y, right_up_x]))\n",
    "\n",
    "        check = box(shift, dot, 'l_d')\n",
    "        right_up_y = crop_number(check[0], (0, 99999))\n",
    "        right_up_x = crop_number(check[1], (-99999, x))\n",
    "        left_down_y = crop_number(check[2], (-99999, y))\n",
    "        left_down_x = crop_number(check[3], (0, 99999))\n",
    "        dot_boxes.append(np.array([left_up_y, left_up_x, right_down_y, right_down_x]))\n",
    "\n",
    "        check = box(shift, dot, 'r_d')\n",
    "        right_up_y = crop_number(check[0], (0, 99999))\n",
    "        rigt_up_x = crop_number(check[1], (0, 99999))\n",
    "        left_down_y = crop_number(check[2], (-99999, y))\n",
    "        left_down_x = crop_number(check[3], (-99999, x))\n",
    "        dot_boxes.append(np.array([right_up_y, left_down_x, left_down_y, rigt_up_x]))\n",
    "\n",
    "        if center:\n",
    "            check = box(box_shape//2, dot, 'center')\n",
    "            right_up_y = crop_number(check[0], (0, 99999))\n",
    "            rigt_up_x = crop_number(check[1], (0, 99999))\n",
    "            left_down_y = crop_number(check[2], (-99999, y))\n",
    "            left_down_x = crop_number(check[3], (-99999, x))\n",
    "            dot_boxes.append(np.array([right_up_y, left_down_x, left_down_y, rigt_up_x]))\n",
    "        boxes.append(np.asarray(dot_boxes, dtype=np.int16))\n",
    "\n",
    "            \n",
    "    for cluster in dots['clusters']:\n",
    "        clusters_dots = cluster.cluster_centers_\n",
    "        for cluster_dot in clusters_dots:\n",
    "            cluster_dot = int(cluster_dot[0]), int(cluster_dot[1])\n",
    "            check = box(box_shape//2, cluster_dot, 'center')\n",
    "            right_up_y = crop_number(check[0], (0, 99999))\n",
    "            rigt_up_x = crop_number(check[1], (0, 99999))\n",
    "            left_down_y = crop_number(check[2], (-99999, y))\n",
    "            left_down_x = crop_number(check[3], (-99999, x))\n",
    "            boxes.append(np.array([[right_up_y, left_down_x, left_down_y, rigt_up_x]]))\n",
    "\n",
    "    return np.asarray(boxes)"
   ]
  },
  {
   "cell_type": "code",
   "execution_count": 10,
   "metadata": {},
   "outputs": [],
   "source": [
    "def crop_number(numb, limits):\n",
    "    if numb < limits[0]:\n",
    "        return limits[0]\n",
    "    else:\n",
    "        return numb\n",
    "    if numb > limits[1]:\n",
    "        return limits[1]\n",
    "    else:\n",
    "        return numb"
   ]
  },
  {
   "cell_type": "code",
   "execution_count": 11,
   "metadata": {},
   "outputs": [],
   "source": [
    "def box(shift, dot, where):\n",
    "    box_coord = []\n",
    "    #r -> smaller_diag_y, smaller_diag_x, bigger_diag_y, bigger_diag_x\n",
    "    #where - where the shifts go l_up, r_up, l_d, r_d, center\n",
    "    if where == 'r_d':\n",
    "        return (dot[0] - shift, dot[1] - shift, dot[0] + 3*shift, dot[1] + 3*shift)\n",
    "    if where == 'l_up':\n",
    "        return (dot[0] + shift, dot[1] + shift, dot[0] - 3*shift, dot[1] - 3*shift)\n",
    "    if where == 'l_d':\n",
    "        return (dot[0] - shift, dot[1] + shift, dot[0] + 3*shift, dot[1] - 3*shift)\n",
    "    if where == 'r_up':\n",
    "        return (dot[0] + shift, dot[1] - shift, dot[0] - 3*shift, dot[1] + 3*shift)\n",
    "    if where == 'center':\n",
    "        return (int(dot[0] - shift), int(dot[1] - shift), int(dot[0] + shift), int(dot[1] + shift))"
   ]
  },
  {
   "cell_type": "code",
   "execution_count": 12,
   "metadata": {},
   "outputs": [],
   "source": [
    "def crop(box, img):\n",
    "    #condition_is_true if condition else condition_is_false\n",
    "    y = []\n",
    "    x = []\n",
    "    y.append((box[0], box[2])) if box[0] < box[2] else y.append((box[2], box[0])) #y_slicing\n",
    "    x.append((box[1], box[3])) if box[1] < box[3] else x.append((box[3],box[1])) #x_slicing\n",
    "\n",
    "    return img[y[0][0]:y[0][1], x[0][0]:x[0][1]]"
   ]
  },
  {
   "cell_type": "code",
   "execution_count": 13,
   "metadata": {},
   "outputs": [],
   "source": [
    "def generating_boxes(dots, img, box_shape, shape):\n",
    "    croped_image = []\n",
    "    score = [] #for evalueting\n",
    "    boxes = make_square_box(dots, box_shape, shape)\n",
    "    for dot_boxes in boxes:\n",
    "        for index, box in enumerate(dot_boxes):\n",
    "            score.append(evalueting_cropping(box, dots, img, dots['clusters'][0].labels_[index]))\n",
    "            croped_image.append(crop(box, img))\n",
    "    print(score)\n",
    "    return np.asarray(croped_image)"
   ]
  },
  {
   "cell_type": "code",
   "execution_count": 14,
   "metadata": {},
   "outputs": [],
   "source": [
    "SCALE = 2 #for pooling\n",
    "MIN_DISTANCE = 2 #radius for finding local max\n",
    "MASK_VALUE = 0.3"
   ]
  },
  {
   "cell_type": "code",
   "execution_count": 16,
   "metadata": {},
   "outputs": [
    {
     "name": "stderr",
     "output_type": "stream",
     "text": [
      "/anaconda3/lib/python3.6/site-packages/ipykernel_launcher.py:4: DeprecationWarning: This function is deprecated. Please call randint(1, 933 + 1) instead\n",
      "  after removing the cwd from sys.path.\n"
     ]
    },
    {
     "data": {
      "image/png": "[encoded data removed]",
      "text/plain": [
       "<matplotlib.figure.Figure at 0x1c1f0a7f28>"
      ]
     },
     "metadata": {},
     "output_type": "display_data"
    },
    {
     "data": {
      "image/png": "[encoded data removed]",
      "text/plain": [
       "<matplotlib.figure.Figure at 0x1c1f0a7710>"
      ]
     },
     "metadata": {},
     "output_type": "display_data"
    }
   ],
   "source": [
    "images_path = get_imlist('Test189x110/27734/')\n",
    "count = len(images_path) - 1\n",
    "\n",
    "index = np.random.random_integers(count)\n",
    "original_img = cv2.imread(images_path[index])[:,:,0]\n",
    "\n",
    "img = original_img/255\n",
    "#show(img)\n",
    "\n",
    "im = make_mask(MASK_VALUE, img)\n",
    "show(im)\n",
    "show(original_img)"
   ]
  },
  {
   "cell_type": "code",
   "execution_count": 17,
   "metadata": {},
   "outputs": [
    {
     "data": {
      "image/png": "[encoded data removed]",
      "text/plain": [
       "<matplotlib.figure.Figure at 0x1c1f095048>"
      ]
     },
     "metadata": {},
     "output_type": "display_data"
    },
    {
     "data": {
      "text/plain": [
       "(50, 90)"
      ]
     },
     "execution_count": 17,
     "metadata": {},
     "output_type": "execute_result"
    }
   ],
   "source": [
    "maximum = mean_pooling(img, SCALE)\n",
    "show(maximum, title='pooling')\n",
    "maximum.shape"
   ]
  },
  {
   "cell_type": "code",
   "execution_count": 18,
   "metadata": {},
   "outputs": [
    {
     "name": "stdout",
     "output_type": "stream",
     "text": [
      "anticipated number of clusters  3\n"
     ]
    },
    {
     "data": {
      "image/png": "[encoded data removed]",
      "text/plain": [
       "<matplotlib.figure.Figure at 0x1c1f73bcf8>"
      ]
     },
     "metadata": {},
     "output_type": "display_data"
    }
   ],
   "source": [
    "coordinates = filtering_max(peak_local_max(maximum, min_distance=MIN_DISTANCE), maximum, SCALE)\n",
    "max_coord = (coordinates + MIN_DISTANCE) * SCALE\n",
    "n_clusters = count_cluster(max_coord[0], max_coord[1:], 30)\n",
    "clusters = find_cluster(n_clusters, max_coord, mode='default', init='k-means++')\n",
    "print(\"anticipated number of clusters \", n_clusters)\n",
    "\n",
    "plt.imshow(im, cmap=plt.cm.gray)\n",
    "plt.plot(max_coord[0:, 1], max_coord[0:, 0], 'r.')\n",
    "plt.axis('off')\n",
    "plt.show()"
   ]
  },
  {
   "cell_type": "code",
   "execution_count": 19,
   "metadata": {},
   "outputs": [
    {
     "data": {
      "image/png": "[encoded data removed]",
      "text/plain": [
       "<matplotlib.figure.Figure at 0x1c1f722550>"
      ]
     },
     "metadata": {},
     "output_type": "display_data"
    }
   ],
   "source": [
    "plt.imshow(maximum, cmap=plt.cm.gray)\n",
    "plt.plot(coordinates[5, 1], coordinates[5, 0], 'r.')\n",
    "plt.axis('off')\n",
    "\n",
    "plt.show()"
   ]
  },
  {
   "cell_type": "code",
   "execution_count": 20,
   "metadata": {},
   "outputs": [
    {
     "name": "stdout",
     "output_type": "stream",
     "text": [
      "(1,)\n"
     ]
    },
    {
     "data": {
      "image/png": "[encoded data removed]",
      "text/plain": [
       "<matplotlib.figure.Figure at 0x1c1f5ad6a0>"
      ]
     },
     "metadata": {},
     "output_type": "display_data"
    }
   ],
   "source": [
    "plt.imshow(im, cmap=plt.cm.gray)\n",
    "plt.plot(clusters['coordinates'][5, 1], clusters['coordinates'][5, 0], 'r.')\n",
    "print(clusters['clusters'].shape)\n",
    "plt.plot(clusters['clusters'][0].cluster_centers_[:, 1], clusters['clusters'][0].cluster_centers_[:, 0], 'b.')\n",
    "plt.axis('off')\n",
    "\n",
    "plt.show()"
   ]
  },
  {
   "cell_type": "code",
   "execution_count": 21,
   "metadata": {},
   "outputs": [
    {
     "name": "stdout",
     "output_type": "stream",
     "text": [
      "[[ 74 140]\n",
      " [ 52 146]\n",
      " [ 52 144]\n",
      " [ 50 146]\n",
      " [ 50 144]\n",
      " [ 48 146]\n",
      " [ 48 144]\n",
      " [ 46  42]\n",
      " [ 38  42]\n",
      " [ 38  40]\n",
      " [ 38  38]\n",
      " [ 36  96]\n",
      " [ 36  94]\n",
      " [ 34  68]\n",
      " [ 34  66]\n",
      " [ 32 118]\n",
      " [ 32 116]\n",
      " [ 26  50]\n",
      " [ 24 118]\n",
      " [ 18 118]] [2 2 2 2 2 2 2 1 1 1 1 0 0 1 1 0 0 1 0 0]\n"
     ]
    }
   ],
   "source": [
    "print(clusters['coordinates'], clusters['clusters'][0].labels_)"
   ]
  },
  {
   "cell_type": "code",
   "execution_count": 24,
   "metadata": {},
   "outputs": [
    {
     "ename": "NameError",
     "evalue": "name 'in_box' is not defined",
     "output_type": "error",
     "traceback": [
      "\u001b[0;31m---------------------------------------------------------------------------\u001b[0m",
      "\u001b[0;31mNameError\u001b[0m                                 Traceback (most recent call last)",
      "\u001b[0;32m<ipython-input-24-6edc16387b61>\u001b[0m in \u001b[0;36m<module>\u001b[0;34m()\u001b[0m\n\u001b[0;32m----> 1\u001b[0;31m \u001b[0mgenerated\u001b[0m \u001b[0;34m=\u001b[0m \u001b[0mgenerating_boxes\u001b[0m\u001b[0;34m(\u001b[0m\u001b[0mclusters\u001b[0m\u001b[0;34m,\u001b[0m \u001b[0moriginal_img\u001b[0m\u001b[0;34m,\u001b[0m \u001b[0;36m53\u001b[0m\u001b[0;34m,\u001b[0m \u001b[0;34m(\u001b[0m\u001b[0;36m110\u001b[0m\u001b[0;34m,\u001b[0m \u001b[0;36m189\u001b[0m\u001b[0;34m)\u001b[0m\u001b[0;34m)\u001b[0m\u001b[0;34m\u001b[0m\u001b[0m\n\u001b[0m\u001b[1;32m      2\u001b[0m \u001b[0;32mfor\u001b[0m \u001b[0mg\u001b[0m \u001b[0;32min\u001b[0m \u001b[0mgenerated\u001b[0m\u001b[0;34m:\u001b[0m\u001b[0;34m\u001b[0m\u001b[0m\n\u001b[1;32m      3\u001b[0m     \u001b[0mshow\u001b[0m\u001b[0;34m(\u001b[0m\u001b[0mg\u001b[0m\u001b[0;34m)\u001b[0m\u001b[0;34m\u001b[0m\u001b[0m\n\u001b[1;32m      4\u001b[0m     \u001b[0mprint\u001b[0m\u001b[0;34m(\u001b[0m\u001b[0mg\u001b[0m\u001b[0;34m.\u001b[0m\u001b[0mshape\u001b[0m\u001b[0;34m)\u001b[0m\u001b[0;34m\u001b[0m\u001b[0m\n",
      "\u001b[0;32m<ipython-input-13-a1288c3ca3e2>\u001b[0m in \u001b[0;36mgenerating_boxes\u001b[0;34m(dots, img, box_shape, shape)\u001b[0m\n\u001b[1;32m      5\u001b[0m     \u001b[0;32mfor\u001b[0m \u001b[0mdot_boxes\u001b[0m \u001b[0;32min\u001b[0m \u001b[0mboxes\u001b[0m\u001b[0;34m:\u001b[0m\u001b[0;34m\u001b[0m\u001b[0m\n\u001b[1;32m      6\u001b[0m         \u001b[0;32mfor\u001b[0m \u001b[0mindex\u001b[0m\u001b[0;34m,\u001b[0m \u001b[0mbox\u001b[0m \u001b[0;32min\u001b[0m \u001b[0menumerate\u001b[0m\u001b[0;34m(\u001b[0m\u001b[0mdot_boxes\u001b[0m\u001b[0;34m)\u001b[0m\u001b[0;34m:\u001b[0m\u001b[0;34m\u001b[0m\u001b[0m\n\u001b[0;32m----> 7\u001b[0;31m             \u001b[0mscore\u001b[0m\u001b[0;34m.\u001b[0m\u001b[0mappend\u001b[0m\u001b[0;34m(\u001b[0m\u001b[0mevalueting_cropping\u001b[0m\u001b[0;34m(\u001b[0m\u001b[0mbox\u001b[0m\u001b[0;34m,\u001b[0m \u001b[0mdots\u001b[0m\u001b[0;34m,\u001b[0m \u001b[0mimg\u001b[0m\u001b[0;34m,\u001b[0m \u001b[0mdots\u001b[0m\u001b[0;34m[\u001b[0m\u001b[0;34m'clusters'\u001b[0m\u001b[0;34m]\u001b[0m\u001b[0;34m[\u001b[0m\u001b[0;36m0\u001b[0m\u001b[0;34m]\u001b[0m\u001b[0;34m.\u001b[0m\u001b[0mlabels_\u001b[0m\u001b[0;34m[\u001b[0m\u001b[0mindex\u001b[0m\u001b[0;34m]\u001b[0m\u001b[0;34m)\u001b[0m\u001b[0;34m)\u001b[0m\u001b[0;34m\u001b[0m\u001b[0m\n\u001b[0m\u001b[1;32m      8\u001b[0m             \u001b[0mcroped_image\u001b[0m\u001b[0;34m.\u001b[0m\u001b[0mappend\u001b[0m\u001b[0;34m(\u001b[0m\u001b[0mcrop\u001b[0m\u001b[0;34m(\u001b[0m\u001b[0mbox\u001b[0m\u001b[0;34m,\u001b[0m \u001b[0mimg\u001b[0m\u001b[0;34m)\u001b[0m\u001b[0;34m)\u001b[0m\u001b[0;34m\u001b[0m\u001b[0m\n\u001b[1;32m      9\u001b[0m     \u001b[0mprint\u001b[0m\u001b[0;34m(\u001b[0m\u001b[0mscore\u001b[0m\u001b[0;34m)\u001b[0m\u001b[0;34m\u001b[0m\u001b[0m\n",
      "\u001b[0;32m<ipython-input-23-91e4190b209e>\u001b[0m in \u001b[0;36mevalueting_cropping\u001b[0;34m(box, dots, img, cluster)\u001b[0m\n\u001b[1;32m      8\u001b[0m     \u001b[0msumma\u001b[0m \u001b[0;34m=\u001b[0m \u001b[0mnp\u001b[0m\u001b[0;34m.\u001b[0m\u001b[0msum\u001b[0m\u001b[0;34m(\u001b[0m\u001b[0mcrop\u001b[0m\u001b[0;34m(\u001b[0m\u001b[0mbox\u001b[0m\u001b[0;34m,\u001b[0m \u001b[0mimg\u001b[0m\u001b[0;34m)\u001b[0m\u001b[0;34m)\u001b[0m\u001b[0;34m\u001b[0m\u001b[0m\n\u001b[1;32m      9\u001b[0m     \u001b[0;32mfor\u001b[0m \u001b[0mindex\u001b[0m\u001b[0;34m,\u001b[0m \u001b[0mcoord\u001b[0m \u001b[0;32min\u001b[0m \u001b[0menumerate\u001b[0m\u001b[0;34m(\u001b[0m\u001b[0mcoords\u001b[0m\u001b[0;34m)\u001b[0m\u001b[0;34m:\u001b[0m\u001b[0;34m\u001b[0m\u001b[0m\n\u001b[0;32m---> 10\u001b[0;31m         \u001b[0;32mif\u001b[0m \u001b[0min_box\u001b[0m\u001b[0;34m(\u001b[0m\u001b[0mcoord\u001b[0m\u001b[0;34m,\u001b[0m \u001b[0mbox\u001b[0m\u001b[0;34m)\u001b[0m\u001b[0;34m:\u001b[0m\u001b[0;34m\u001b[0m\u001b[0m\n\u001b[0m\u001b[1;32m     11\u001b[0m             \u001b[0mcluster_\u001b[0m \u001b[0;34m=\u001b[0m \u001b[0mclustered\u001b[0m\u001b[0;34m[\u001b[0m\u001b[0;36m0\u001b[0m\u001b[0;34m]\u001b[0m\u001b[0;34m.\u001b[0m\u001b[0mlabels_\u001b[0m\u001b[0;34m[\u001b[0m\u001b[0mindex\u001b[0m\u001b[0;34m]\u001b[0m\u001b[0;34m\u001b[0m\u001b[0m\n\u001b[1;32m     12\u001b[0m             \u001b[0;32mif\u001b[0m \u001b[0mcluster\u001b[0m \u001b[0;34m!=\u001b[0m \u001b[0mcluster_\u001b[0m\u001b[0;34m:\u001b[0m\u001b[0;34m\u001b[0m\u001b[0m\n",
      "\u001b[0;31mNameError\u001b[0m: name 'in_box' is not defined"
     ]
    }
   ],
   "source": [
    "generated = generating_boxes(clusters, original_img, 53, (110, 189))\n",
    "for g in generated:\n",
    "    show(g)\n",
    "    print(g.shape)"
   ]
  },
  {
   "cell_type": "code",
   "execution_count": 23,
   "metadata": {},
   "outputs": [],
   "source": [
    "def evalueting_cropping(box, dots, img, cluster):\n",
    "    coords, clustered = dots['coordinates'], dots['clusters']\n",
    "    number_self_dots = 0.000000000001 #avoid devading \n",
    "    number_alien_dots = 0.000000000001 #by zero\n",
    "    finded_clusters = []\n",
    "    count_clusters = 1\n",
    "    \n",
    "    summa = np.sum(crop(box, img))\n",
    "    for index, coord in enumerate(coords):\n",
    "        if in_box(coord, box):\n",
    "            cluster_ = clustered[0].labels_[index]\n",
    "            if cluster != cluster_:\n",
    "                number_alien_dots = number_alien_dots + 1\n",
    "                if cluster_ not in finded_clusters:\n",
    "                    find_cluster.append(cluster_)\n",
    "                    count_clusters = count_clusters + 1\n",
    "            else:\n",
    "                number_self_dots = number_self_dots + 1\n",
    "    value = suma * number_self_dots / (number_alien_dots * count_clusters)\n",
    "    return round(value, 3)\n",
    "    "
   ]
  },
  {
   "cell_type": "code",
   "execution_count": 77,
   "metadata": {},
   "outputs": [
    {
     "ename": "TypeError",
     "evalue": "'numpy.ndarray' object is not callable",
     "output_type": "error",
     "traceback": [
      "\u001b[0;31m---------------------------------------------------------------------------\u001b[0m",
      "\u001b[0;31mTypeError\u001b[0m                                 Traceback (most recent call last)",
      "\u001b[0;32m<ipython-input-77-f357838686fa>\u001b[0m in \u001b[0;36m<module>\u001b[0;34m()\u001b[0m\n\u001b[1;32m      1\u001b[0m \u001b[0mclusters\u001b[0m\u001b[0;34m[\u001b[0m\u001b[0;34m'coordinates'\u001b[0m\u001b[0;34m]\u001b[0m\u001b[0;34m[\u001b[0m\u001b[0;36m0\u001b[0m\u001b[0;34m]\u001b[0m\u001b[0;34m\u001b[0m\u001b[0m\n\u001b[0;32m----> 2\u001b[0;31m \u001b[0mboxes\u001b[0m \u001b[0;34m=\u001b[0m \u001b[0mmake_square_box\u001b[0m\u001b[0;34m(\u001b[0m\u001b[0mclusters\u001b[0m\u001b[0;34m,\u001b[0m \u001b[0;36m50\u001b[0m\u001b[0;34m,\u001b[0m \u001b[0;34m(\u001b[0m\u001b[0;36m110\u001b[0m\u001b[0;34m,\u001b[0m \u001b[0;36m189\u001b[0m\u001b[0;34m)\u001b[0m\u001b[0;34m)\u001b[0m\u001b[0;34m\u001b[0m\u001b[0m\n\u001b[0m\u001b[1;32m      3\u001b[0m \u001b[0;32mfor\u001b[0m \u001b[0mdot_boxes\u001b[0m \u001b[0;32min\u001b[0m \u001b[0mboxes\u001b[0m\u001b[0;34m:\u001b[0m\u001b[0;34m\u001b[0m\u001b[0m\n\u001b[1;32m      4\u001b[0m     \u001b[0;32mfor\u001b[0m \u001b[0mindex\u001b[0m\u001b[0;34m,\u001b[0m \u001b[0mbox\u001b[0m \u001b[0;32min\u001b[0m \u001b[0menumrate\u001b[0m\u001b[0;34m(\u001b[0m\u001b[0mdot_boxes\u001b[0m\u001b[0;34m)\u001b[0m\u001b[0;34m:\u001b[0m\u001b[0;34m\u001b[0m\u001b[0m\n\u001b[1;32m      5\u001b[0m         \u001b[0mevalueting_cropping\u001b[0m\u001b[0;34m(\u001b[0m\u001b[0mbox\u001b[0m\u001b[0;34m,\u001b[0m \u001b[0mclusters\u001b[0m\u001b[0;34m,\u001b[0m \u001b[0moriginal_img\u001b[0m\u001b[0;34m,\u001b[0m \u001b[0mclusters\u001b[0m\u001b[0;34m[\u001b[0m\u001b[0;34m'clusters'\u001b[0m\u001b[0;34m]\u001b[0m\u001b[0;34m[\u001b[0m\u001b[0;36m0\u001b[0m\u001b[0;34m]\u001b[0m\u001b[0;34m.\u001b[0m\u001b[0mlabels_\u001b[0m\u001b[0;34m[\u001b[0m\u001b[0mindex\u001b[0m\u001b[0;34m]\u001b[0m\u001b[0;34m)\u001b[0m\u001b[0;34m\u001b[0m\u001b[0m\n",
      "\u001b[0;32m<ipython-input-24-9744e24f9944>\u001b[0m in \u001b[0;36mmake_square_box\u001b[0;34m(dots, box_shape, shape, center)\u001b[0m\n\u001b[1;32m      6\u001b[0m     \u001b[0;31m#left_up\u001b[0m\u001b[0;34m\u001b[0m\u001b[0;34m\u001b[0m\u001b[0m\n\u001b[1;32m      7\u001b[0m         \u001b[0mdot_boxes\u001b[0m \u001b[0;34m=\u001b[0m \u001b[0;34m[\u001b[0m\u001b[0;34m]\u001b[0m\u001b[0;34m\u001b[0m\u001b[0m\n\u001b[0;32m----> 8\u001b[0;31m         \u001b[0mcheck\u001b[0m \u001b[0;34m=\u001b[0m \u001b[0mbox\u001b[0m\u001b[0;34m(\u001b[0m\u001b[0mshift\u001b[0m\u001b[0;34m,\u001b[0m \u001b[0mdot\u001b[0m\u001b[0;34m,\u001b[0m \u001b[0;34m'l_up'\u001b[0m\u001b[0;34m)\u001b[0m\u001b[0;34m\u001b[0m\u001b[0m\n\u001b[0m\u001b[1;32m      9\u001b[0m         \u001b[0mright_down_y\u001b[0m \u001b[0;34m=\u001b[0m \u001b[0mcrop_number\u001b[0m\u001b[0;34m(\u001b[0m\u001b[0mcheck\u001b[0m\u001b[0;34m[\u001b[0m\u001b[0;36m0\u001b[0m\u001b[0;34m]\u001b[0m\u001b[0;34m,\u001b[0m \u001b[0;34m(\u001b[0m\u001b[0;34m-\u001b[0m\u001b[0;36m99999\u001b[0m\u001b[0;34m,\u001b[0m \u001b[0my\u001b[0m\u001b[0;34m)\u001b[0m\u001b[0;34m)\u001b[0m\u001b[0;34m\u001b[0m\u001b[0m\n\u001b[1;32m     10\u001b[0m         \u001b[0mright_down_x\u001b[0m \u001b[0;34m=\u001b[0m \u001b[0mcrop_number\u001b[0m\u001b[0;34m(\u001b[0m\u001b[0mcheck\u001b[0m\u001b[0;34m[\u001b[0m\u001b[0;36m1\u001b[0m\u001b[0;34m]\u001b[0m\u001b[0;34m,\u001b[0m \u001b[0;34m(\u001b[0m\u001b[0;34m-\u001b[0m\u001b[0;36m99999\u001b[0m\u001b[0;34m,\u001b[0m \u001b[0mx\u001b[0m\u001b[0;34m)\u001b[0m\u001b[0;34m)\u001b[0m\u001b[0;34m\u001b[0m\u001b[0m\n",
      "\u001b[0;31mTypeError\u001b[0m: 'numpy.ndarray' object is not callable"
     ]
    }
   ],
   "source": [
    "clusters['coordinates'][0]\n",
    "boxes = make_square_box(clusters, 50, (110, 189))\n",
    "for dot_boxes in boxes:\n",
    "    for index, box in enumrate(dot_boxes):\n",
    "        evalueting_cropping(box, clusters, original_img, clusters['clusters'][0].labels_[index])"
   ]
  },
  {
   "cell_type": "code",
   "execution_count": null,
   "metadata": {},
   "outputs": [],
   "source": [
    "def in_box(coord, box):\n",
    "    #check is the dot in box or not"
   ]
  },
  {
   "cell_type": "code",
   "execution_count": null,
   "metadata": {},
   "outputs": [],
   "source": [
    "#generating_boxes(dots, img, box_shape, shape)"
   ]
  }
 ],
 "metadata": {
  "kernelspec": {
   "display_name": "Python 3",
   "language": "python",
   "name": "python3"
  },
  "language_info": {
   "codemirror_mode": {
    "name": "ipython",
    "version": 3
   },
   "file_extension": ".py",
   "mimetype": "text/x-python",
   "name": "python",
   "nbconvert_exporter": "python",
   "pygments_lexer": "ipython3",
   "version": "3.6.4"
  }
 },
 "nbformat": 4,
 "nbformat_minor": 2
}
